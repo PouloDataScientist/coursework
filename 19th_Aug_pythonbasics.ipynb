{
 "cells": [
  {
   "cell_type": "markdown",
   "id": "36e207d3-267e-418f-a349-69e775c61780",
   "metadata": {},
   "source": [
    "Python Basics Variable\n",
    "\n",
    "1. Declare two variables, `x` and `y`, and assign them integer values. Swap the\n",
    "values of these variables without using any temporary variable.\n",
    "2. Create a program that calculates the area of a rectangle. Take the length and\n",
    "width as inputs from the user and store them in variables. Calculate and\n",
    "display the area.\n",
    "3. Write a Python program that converts temperatures from Celsius to\n",
    "Fahrenheit. Take the temperature in Celsius as input, store it in a variable,\n",
    "convert it to Fahrenheit, and display the result."
   ]
  },
  {
   "cell_type": "code",
   "execution_count": 13,
   "id": "ac61f6dc-045b-49de-a992-c0707c716c5f",
   "metadata": {},
   "outputs": [
    {
     "name": "stdout",
     "output_type": "stream",
     "text": [
      "Value of x: 20\n",
      "Value of y: 10\n"
     ]
    }
   ],
   "source": [
    "# Question 1\n",
    "#Intialising with below values\n",
    "x=10\n",
    "y=20\n",
    "\n",
    "\n",
    "#Swapping of variables without using temporary variable\n",
    "x,y=y,x\n",
    "\n",
    "print('Value of x:', x)\n",
    "print('Value of y:', y)"
   ]
  },
  {
   "cell_type": "code",
   "execution_count": 22,
   "id": "7ab073e3-6854-4e17-b086-54818042559a",
   "metadata": {},
   "outputs": [
    {
     "name": "stdin",
     "output_type": "stream",
     "text": [
      "Enter length of rectangle: 2\n",
      "Enter breadth of rectangle: 3\n"
     ]
    },
    {
     "name": "stdout",
     "output_type": "stream",
     "text": [
      "Area of rectangle is : 6\n"
     ]
    }
   ],
   "source": [
    "#Question 2\n",
    "#Declare the input statements for takeing value of l and b from user\n",
    "a = int(input(\"Enter length of rectangle:\"))\n",
    "b = int(input(\"Enter breadth of rectangle:\"))\n",
    "\n",
    "c= a*b\n",
    "\n",
    "print(\"Area of rectangle is :\", c)\n"
   ]
  },
  {
   "cell_type": "code",
   "execution_count": 23,
   "id": "f15ea5c0-be1a-452e-93d4-5ebb1ee3e970",
   "metadata": {},
   "outputs": [
    {
     "name": "stdin",
     "output_type": "stream",
     "text": [
      "Enter temp in celsius: 34\n"
     ]
    },
    {
     "name": "stdout",
     "output_type": "stream",
     "text": [
      "Temp in Farenheit is : 93.2\n"
     ]
    }
   ],
   "source": [
    "#Question 3\n",
    "\n",
    "# Take inout of celcius temp from user\n",
    "\n",
    "c = float(input(\"Enter temp in celsius:\"))\n",
    "\n",
    "f = (c*9/5)+32\n",
    "\n",
    "print(\"Temp in Farenheit is :\" ,f)\n",
    "\n",
    "\n"
   ]
  },
  {
   "cell_type": "markdown",
   "id": "5d5672b6-3cca-4738-b4b7-79f9994245b9",
   "metadata": {},
   "source": [
    "String Based Questions\n",
    "\n",
    "1. Write a Python program that takes a string as input and prints the length of the string.\n",
    "\n",
    "2. Create a program that takes a sentence from the user and counts the number of vowels (a, e, i, o, u) in the string.\n",
    "\n",
    "3. Given a string, reverse the order of characters using string slicing and print the reversed string.\n",
    "\n",
    "4. Write a program that takes a string as input and checks if it is a palindrome (reads the same forwards and backwards).\n",
    "\n",
    "5. Create a program that takes a string as input and removes all the spaces from it. Print the modified string without spaces."
   ]
  },
  {
   "cell_type": "code",
   "execution_count": 25,
   "id": "5c099f77-3096-4bb4-9068-7dda6d370744",
   "metadata": {},
   "outputs": [
    {
     "name": "stdin",
     "output_type": "stream",
     "text": [
      "Enter String: My name is poulo\n"
     ]
    },
    {
     "name": "stdout",
     "output_type": "stream",
     "text": [
      "length of string is : 16\n"
     ]
    }
   ],
   "source": [
    "# Question1\n",
    "#\n",
    "strng = input(\"Enter String:\")\n",
    "print(\"length of string is :\", len(strng))"
   ]
  },
  {
   "cell_type": "code",
   "execution_count": 34,
   "id": "2b993961-06e9-425e-bcb8-4f891a565c51",
   "metadata": {},
   "outputs": [
    {
     "name": "stdin",
     "output_type": "stream",
     "text": [
      "Enter String: Hello whats up\n"
     ]
    },
    {
     "name": "stdout",
     "output_type": "stream",
     "text": [
      "Number of vowels in string: 4\n"
     ]
    }
   ],
   "source": [
    "#Question 2\n",
    "\n",
    "strng = input(\"Enter String:\")\n",
    "\n",
    "vow = \"aeiou\"\n",
    "count = 0 \n",
    "\n",
    "for v in strng:\n",
    "    if v in vow:\n",
    "        count = count+1\n",
    "\n",
    "        \n",
    "print(\"Number of vowels in string:\",count)\n",
    "\n",
    "\n"
   ]
  },
  {
   "cell_type": "code",
   "execution_count": 44,
   "id": "1e12223f-df71-4ede-ba1e-6bda13305920",
   "metadata": {},
   "outputs": [
    {
     "name": "stdin",
     "output_type": "stream",
     "text": [
      "Enter String: this is a pallindrome\n"
     ]
    },
    {
     "name": "stdout",
     "output_type": "stream",
     "text": [
      "emordnillap a si siht\n"
     ]
    }
   ],
   "source": [
    "\n",
    "#Question3\n",
    "strng = input(\"Enter String:\")\n",
    "new_str = \"\"\n",
    "for i in range(0,len(strng)):\n",
    "    x= len(strng)- i-1\n",
    "    new_str = new_str + strng[x]\n",
    "    \n",
    "print(new_str)\n"
   ]
  },
  {
   "cell_type": "code",
   "execution_count": 56,
   "id": "54783823-6e6c-4883-aa6c-b1d9fe58c948",
   "metadata": {},
   "outputs": [
    {
     "name": "stdin",
     "output_type": "stream",
     "text": [
      "Enter String: otto\n"
     ]
    },
    {
     "name": "stdout",
     "output_type": "stream",
     "text": [
      "Pallindrome\n"
     ]
    }
   ],
   "source": [
    "\n",
    "#Question4\n",
    "strng = input(\"Enter String:\")\n",
    "i=0\n",
    "count = 0\n",
    "for s in range(0,len(strng)):\n",
    "    y=len(strng)-s-1\n",
    "    if strng[s]==strng[y]:\n",
    "        count = count + 1\n",
    "\n",
    "if count == len(strng):\n",
    "    print(\"Pallindrome\")\n",
    "else:\n",
    "    print(\"Not a Pallindrome\")\n",
    "        "
   ]
  },
  {
   "cell_type": "code",
   "execution_count": 57,
   "id": "949f1047-1501-4fa9-99d1-d7f7f52a21bc",
   "metadata": {},
   "outputs": [
    {
     "name": "stdin",
     "output_type": "stream",
     "text": [
      "Enter String: hello what is going on\n"
     ]
    },
    {
     "name": "stdout",
     "output_type": "stream",
     "text": [
      "string without spaces :  hellowhatisgoingon\n"
     ]
    }
   ],
   "source": [
    "#Question5\n",
    "strng = input(\"Enter String:\")\n",
    "strng = strng.replace(\" \",\"\")\n",
    "\n",
    "print(\"string without spaces : \", strng)"
   ]
  },
  {
   "cell_type": "code",
   "execution_count": null,
   "id": "411bfdd8-a0c7-48f8-b9cc-9476fdc7a440",
   "metadata": {},
   "outputs": [],
   "source": []
  }
 ],
 "metadata": {
  "kernelspec": {
   "display_name": "Python 3 (ipykernel)",
   "language": "python",
   "name": "python3"
  },
  "language_info": {
   "codemirror_mode": {
    "name": "ipython",
    "version": 3
   },
   "file_extension": ".py",
   "mimetype": "text/x-python",
   "name": "python",
   "nbconvert_exporter": "python",
   "pygments_lexer": "ipython3",
   "version": "3.10.8"
  }
 },
 "nbformat": 4,
 "nbformat_minor": 5
}
